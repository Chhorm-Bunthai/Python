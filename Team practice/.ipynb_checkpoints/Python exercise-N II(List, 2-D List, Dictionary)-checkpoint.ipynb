{
 "cells": [
  {
   "cell_type": "markdown",
   "id": "1ac14fef",
   "metadata": {},
   "source": [
    "# List: "
   ]
  },
  {
   "cell_type": "markdown",
   "id": "da0dc543",
   "metadata": {},
   "source": [
    "1/ Write a Python program to count the number of strings from a given list of strings. Count only the strings that have a length of 2 or more and in which  the first and last characters are the same.\n",
    "Sample List : ['abc', 'xyz', 'aba', '1221']\n",
    "Expected Result : 2\n"
   ]
  },
  {
   "cell_type": "code",
   "execution_count": 17,
   "id": "837f0dd6",
   "metadata": {},
   "outputs": [
    {
     "name": "stdout",
     "output_type": "stream",
     "text": [
      "4\n"
     ]
    }
   ],
   "source": [
    "lis = ['abc', 'xyz', 'aba', '1221','tbt','rbr'] \n",
    "cnt = 0\n",
    "for i in lis:\n",
    "    for j in range(len(i)):\n",
    "        if i[0] == i[j-(j+1)]:\n",
    "            cnt +=1\n",
    "            break\n",
    "print(cnt)"
   ]
  },
  {
   "cell_type": "markdown",
   "id": "52b82605",
   "metadata": {},
   "source": [
    "2/ Write a Python program to get a list, sorted in increasing(ascending) order by the last element in each tuple from a given list of non-empty tuples.\n",
    "Sample List : [(2, 5), (1, 2), (4, 4), (2, 3), (2, 1)]\n",
    "Expected Result : [(2, 1), (1, 2), (2, 3), (4, 4), (2, 5)]\n"
   ]
  },
  {
   "cell_type": "code",
   "execution_count": 68,
   "id": "5836bd60",
   "metadata": {},
   "outputs": [
    {
     "ename": "TypeError",
     "evalue": "'int' object is not iterable",
     "output_type": "error",
     "traceback": [
      "\u001b[0;31m---------------------------------------------------------------------------\u001b[0m",
      "\u001b[0;31mTypeError\u001b[0m                                 Traceback (most recent call last)",
      "Cell \u001b[0;32mIn[68], line 4\u001b[0m\n\u001b[1;32m      2\u001b[0m s\u001b[38;5;241m=\u001b[39m[]\n\u001b[1;32m      3\u001b[0m \u001b[38;5;28;01mfor\u001b[39;00m i \u001b[38;5;129;01min\u001b[39;00m \u001b[38;5;28mrange\u001b[39m(\u001b[38;5;28mlen\u001b[39m(lis)):\n\u001b[0;32m----> 4\u001b[0m     d \u001b[38;5;241m=\u001b[39m \u001b[38;5;28;43mlist\u001b[39;49m\u001b[43m(\u001b[49m\u001b[43mlis\u001b[49m\u001b[43m[\u001b[49m\u001b[43mi\u001b[49m\u001b[43m]\u001b[49m\u001b[43m[\u001b[49m\u001b[38;5;241;43m1\u001b[39;49m\u001b[43m]\u001b[49m\u001b[43m)\u001b[49m\u001b[38;5;241m.\u001b[39msort()\n\u001b[1;32m      5\u001b[0m     s\u001b[38;5;241m.\u001b[39mappend(lis[i][\u001b[38;5;241m1\u001b[39m])\n\u001b[1;32m      6\u001b[0m     s\u001b[38;5;241m.\u001b[39msort()\n",
      "\u001b[0;31mTypeError\u001b[0m: 'int' object is not iterable"
     ]
    }
   ],
   "source": [
    "lis = [(2, 5), (1, 2), (4, 4), (2, 3), (2, 1)]\n",
    "s=[]\n",
    "for i in range(len(lis)):\n",
    "    d = list(lis[i][1]).sort()\n",
    "    s.append(lis[i][1])\n",
    "    s.sort()\n",
    "print(s)\n",
    "print(d)\n",
    "        \n",
    "    "
   ]
  },
  {
   "cell_type": "markdown",
   "id": "34dac8f5",
   "metadata": {},
   "source": [
    "3/ Write a Python program to remove duplicates from a list and display in a descending order.\n",
    "\tSample List: [1, 2, 4 , 3, 3, 4, 8, 7, 10, 1]\n",
    "\tExpected Result: [10, 8, 7, 4, 3, 2, 1]\n"
   ]
  },
  {
   "cell_type": "code",
   "execution_count": 92,
   "id": "535ce0cd",
   "metadata": {},
   "outputs": [
    {
     "name": "stdout",
     "output_type": "stream",
     "text": [
      "[1, 2, 1, 4, 3, 4, 8, 7, 10]\n",
      "[10, 7, 4, 4, 3, 1]\n"
     ]
    }
   ],
   "source": [
    "# lis = [1, 2, 1, 4, 3, 4, 8, 7, 10, 1]\n",
    "# l = []\n",
    "# for i in range(len(lis)-1):\n",
    "#     if lis[i] != lis[i+1]:\n",
    "#         l.append(lis[i])\n",
    "#     else:\n",
    "#         continue\n",
    "# print(l)\n",
    "# for j in l:\n",
    "#     if l.count(j) > 1:\n",
    "#         l.pop(j)\n",
    "# l.sort(reverse=True)\n",
    "# print(l)        "
   ]
  },
  {
   "cell_type": "code",
   "execution_count": 89,
   "id": "58e85944",
   "metadata": {},
   "outputs": [
    {
     "name": "stdout",
     "output_type": "stream",
     "text": [
      "[10, 8, 7, 4, 3, 2, 1]\n"
     ]
    }
   ],
   "source": [
    "lis = [1, 2, 4 , 3, 3, 4, 8, 7, 10, 1]\n",
    "l = []\n",
    "for i in lis:\n",
    "    if i not in l:\n",
    "        l.append(i)\n",
    "l.sort(reverse=True)\n",
    "print(l)"
   ]
  },
  {
   "cell_type": "markdown",
   "id": "aa255736",
   "metadata": {},
   "source": [
    "# 2-D List"
   ]
  },
  {
   "cell_type": "markdown",
   "id": "4cc4d5ea",
   "metadata": {},
   "source": [
    "1/ Write a Python program to generate a 3*5 2-D array/list whose each element is the string ‘*’ . \n",
    "Expected Result: \n",
    "\n"
   ]
  },
  {
   "cell_type": "markdown",
   "id": "3452e4bb",
   "metadata": {},
   "source": [
    "*  *  *  *  *\n",
    "*  *  *  *  *\n",
    "*  *  *  *  *"
   ]
  },
  {
   "cell_type": "code",
   "execution_count": 117,
   "id": "c0cd7407",
   "metadata": {},
   "outputs": [
    {
     "name": "stdout",
     "output_type": "stream",
     "text": [
      "* * * * * \n",
      "* * * * * \n",
      "* * * * * \n"
     ]
    }
   ],
   "source": [
    "s = []\n",
    "for i in range(3):\n",
    "    line = []\n",
    "    for j in range(5):\n",
    "        line.append('*')\n",
    "    s.append(line)\n",
    "for i in s:\n",
    "    for j in i:\n",
    "        print(j,end=' ')\n",
    "    print()"
   ]
  },
  {
   "cell_type": "markdown",
   "id": "cbb187e1",
   "metadata": {},
   "source": [
    "2/ Write a Python program to find the list in a list of lists whose sum of elements is the highest. \n",
    "Sample List:  [[1, 2, 3] , [4, 5, 6], [10, 8, 7] , [8, 7, 9]] \n",
    "Expected Output: [10, 8, 7] \n"
   ]
  },
  {
   "cell_type": "code",
   "execution_count": 120,
   "id": "11c71f0f",
   "metadata": {},
   "outputs": [
    {
     "name": "stdout",
     "output_type": "stream",
     "text": [
      "[4, 5, 100]\n"
     ]
    }
   ],
   "source": [
    "lis = [[1, 2, 3] , [4, 5, 100], [10, 8, 7] , [45, 7, 9]]\n",
    "ma = lis[0]\n",
    "for i in range(len(lis)):\n",
    "    if sum(lis[i]) > sum(ma):\n",
    "        ma = lis[i]\n",
    "print(ma)"
   ]
  },
  {
   "cell_type": "markdown",
   "id": "34b91b6e",
   "metadata": {},
   "source": [
    "3/ Write a Python program to remove duplicates from a list of lists.\n",
    "Sample list : [[10, 20], [40], [30, 56, 25], [10, 20], [33], [40]]\n",
    "New List : [[10, 20], [30, 56, 25], [33], [40]]\n"
   ]
  },
  {
   "cell_type": "code",
   "execution_count": 123,
   "id": "420058ed",
   "metadata": {},
   "outputs": [
    {
     "name": "stdout",
     "output_type": "stream",
     "text": [
      "[[10, 20], [40], [30, 56, 25], [10, 20, 10], [33]]\n"
     ]
    }
   ],
   "source": [
    "lis = [[10, 20], [40], [30, 56, 25], [10, 20,10], [33], [40]]\n",
    "l = []\n",
    "for i in lis:\n",
    "    if i not in l:\n",
    "        l.append(i)\n",
    "print(l)"
   ]
  },
  {
   "cell_type": "markdown",
   "id": "67b63bc2",
   "metadata": {},
   "source": [
    "# Dictionary:"
   ]
  },
  {
   "cell_type": "markdown",
   "id": "6ada7ab4",
   "metadata": {},
   "source": [
    "1/ Write a Python script to sort (ascending and descending) a dictionary by value.\n",
    "Sample dic: {1: 5, 3: 1, 4: 2, 2: 3, 0: 4}\n",
    "Expected Result: descending= {1: 5, 0: 4, 2: 3, 4: 2, 3: 1}\n",
    "                 ascending= {3: 1, 4: 2, 2: 3, 0: 4, 1: 5}"
   ]
  },
  {
   "cell_type": "code",
   "execution_count": 128,
   "id": "0e7ca235",
   "metadata": {},
   "outputs": [
    {
     "ename": "TypeError",
     "evalue": "'tuple' object is not callable",
     "output_type": "error",
     "traceback": [
      "\u001b[0;31m---------------------------------------------------------------------------\u001b[0m",
      "\u001b[0;31mTypeError\u001b[0m                                 Traceback (most recent call last)",
      "Cell \u001b[0;32mIn[128], line 3\u001b[0m\n\u001b[1;32m      1\u001b[0m dic \u001b[38;5;241m=\u001b[39m {\u001b[38;5;241m1\u001b[39m: \u001b[38;5;241m5\u001b[39m, \u001b[38;5;241m3\u001b[39m: \u001b[38;5;241m1\u001b[39m, \u001b[38;5;241m4\u001b[39m: \u001b[38;5;241m2\u001b[39m, \u001b[38;5;241m2\u001b[39m: \u001b[38;5;241m3\u001b[39m, \u001b[38;5;241m0\u001b[39m: \u001b[38;5;241m4\u001b[39m}\n\u001b[1;32m      2\u001b[0m \u001b[38;5;28;01mfor\u001b[39;00m item \u001b[38;5;129;01min\u001b[39;00m dic\u001b[38;5;241m.\u001b[39mitems():\n\u001b[0;32m----> 3\u001b[0m     \u001b[43mitem\u001b[49m\u001b[43m(\u001b[49m\u001b[43mdic\u001b[49m\u001b[38;5;241;43m.\u001b[39;49m\u001b[43mvalues\u001b[49m\u001b[43m(\u001b[49m\u001b[43m)\u001b[49m\u001b[43m)\u001b[49m\u001b[38;5;241m.\u001b[39msort()\n\u001b[1;32m      4\u001b[0m \u001b[38;5;28mprint\u001b[39m(item)\n",
      "\u001b[0;31mTypeError\u001b[0m: 'tuple' object is not callable"
     ]
    }
   ],
   "source": [
    "dic = {1: 5, 3: 1, 4: 2, 2: 3, 0: 4}\n",
    "for item in dic.items():\n",
    "    item(dic.values()).sort()\n",
    "print(item)\n"
   ]
  },
  {
   "cell_type": "markdown",
   "id": "fe7c784e",
   "metadata": {},
   "source": [
    "2/ Write a Python script to check whether the values 30 and 35 exist in  the dictionary.\n",
    "Sample dic: d = {1: 10, 2: 20, 3: 30, 4: 40, 5: 50, 6: 60}\n",
    "Expected Result: 30 exists in the dictionary with the key= 3.\n",
    "\t\t\t35 doesn’t exist in the dictionary."
   ]
  },
  {
   "cell_type": "code",
   "execution_count": null,
   "id": "9c143f77",
   "metadata": {},
   "outputs": [],
   "source": []
  },
  {
   "cell_type": "markdown",
   "id": "ecafaece",
   "metadata": {},
   "source": [
    "3/ Write a Python program to remove the keys ‘middlename’, ‘idealType’ from the given dictionary.\n",
    "Sample dic: dic = { ‘firstname’: ‘K-boy’ , ‘middlename’ : ‘Cambo’, ‘lastname’: ‘Ti’, ‘job’: ‘reporter’, age: 25, ‘idealType’: ‘Tiktoker’ }\n",
    "Expected Result: dic = { ‘firstname’: ‘K-boy’ , ‘lastname’: ‘Ti’, ‘job’: ‘reporter’, age: 25} \n"
   ]
  },
  {
   "cell_type": "code",
   "execution_count": null,
   "id": "1a44162d",
   "metadata": {},
   "outputs": [],
   "source": [
    "`"
   ]
  }
 ],
 "metadata": {
  "kernelspec": {
   "display_name": "Python 3 (ipykernel)",
   "language": "python",
   "name": "python3"
  },
  "language_info": {
   "codemirror_mode": {
    "name": "ipython",
    "version": 3
   },
   "file_extension": ".py",
   "mimetype": "text/x-python",
   "name": "python",
   "nbconvert_exporter": "python",
   "pygments_lexer": "ipython3",
   "version": "3.10.9"
  }
 },
 "nbformat": 4,
 "nbformat_minor": 5
}
