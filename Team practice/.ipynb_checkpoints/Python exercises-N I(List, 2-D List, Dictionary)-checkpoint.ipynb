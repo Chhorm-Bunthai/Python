{
 "cells": [
  {
   "cell_type": "markdown",
   "id": "d491f9a5",
   "metadata": {},
   "source": [
    "Write a program to add item 7000 after 6000 in the following Python List;\n",
    "Hint: Use append( ) method to add to the nested list.\n",
    "Given list: \n",
    "    lis1 = [10, 20, [300, 400, [5000, 6000], 500 ], 30, 40] \n",
    "Expected Output:\n",
    "\tlis1 = [10, 20, [300, 400, [5000, 6000, 7000], 500 ], 30, 40] \n"
   ]
  },
  {
   "cell_type": "code",
   "execution_count": 5,
   "id": "0071651a",
   "metadata": {
    "scrolled": true
   },
   "outputs": [
    {
     "name": "stdout",
     "output_type": "stream",
     "text": [
      "[10, 20, [300, 400, [5000, 6000, 7000], 500], 30, 40]\n"
     ]
    }
   ],
   "source": [
    "lis1 = [10, 20, [300, 400, [5000, 6000], 500 ], 30, 40]\n",
    "\n",
    "# temp=lis1[2][2]\n",
    "# print(temp)\n",
    "# temp.append(7000)\n",
    "# lis1[2][2] = temp\n",
    "# print(lis1)\n",
    "lis1[2][2].append(7000)\n",
    "print(lis1)"
   ]
  },
  {
   "cell_type": "markdown",
   "id": "ec5c3da3",
   "metadata": {},
   "source": [
    "II/ Given a Python list, write a program to remove all occurrences of item 20. \n",
    "\tHint: Use a while loop and remove( ). \n",
    "\tlist1 = [5, 20, 15, 20, 25, 50, 20]\n",
    "    \n",
    "    Output:\n",
    "\tList1 = [5, 15, 25, 50]\n"
   ]
  },
  {
   "cell_type": "code",
   "execution_count": 61,
   "id": "18f3780e",
   "metadata": {},
   "outputs": [
    {
     "name": "stdout",
     "output_type": "stream",
     "text": [
      "[5, 15, 25, 50]\n"
     ]
    }
   ],
   "source": [
    "list1 = [5, 20, 15, 20, 25, 50, 20,20,20,20]\n",
    "\n",
    "while 20 in list1:\n",
    "    list1.remove(20)\n",
    "print(list1)"
   ]
  },
  {
   "cell_type": "markdown",
   "id": "46ebed13",
   "metadata": {},
   "source": [
    "Write a program that returns a list that contains only the elements that are common between the lists (without duplicates). Make sure your program works on two lists of different sizes:\n",
    "\ta = [1, 1, 2, 3, 5, 8, 13, 21, 34, 55, 89]\n",
    "\tb = [1, 2, 3, 4, 5, 6, 7, 8, 9, 10, 11, 12, 13]\n",
    "\tOutput: \n",
    "\tc = [1, 2, 3, 5, 8, 13]\n"
   ]
  },
  {
   "cell_type": "code",
   "execution_count": 77,
   "id": "da5ad6fe",
   "metadata": {},
   "outputs": [
    {
     "name": "stdout",
     "output_type": "stream",
     "text": [
      "[1, 2, 3, 5, 8, 13]\n"
     ]
    }
   ],
   "source": [
    "a = [1, 1, 2, 3, 5, 8, 13, 21, 34, 55, 89]\n",
    "b = [1,1, 2, 3, 4, 5, 6, 7, 8, 9, 10, 11, 12, 13]\n",
    "l =[]\n",
    "for i in range(len(a)):\n",
    "    for j in range(len(b)):\n",
    "        if a[i] == b[j] and a[i] not in l:\n",
    "            l.append(a[i])\n",
    "print(l)"
   ]
  },
  {
   "cell_type": "markdown",
   "id": "7ae52424",
   "metadata": {},
   "source": [
    "2-D List: \n",
    "(Use Loop and  if else) Let’s say we want to draw game boards that (for example look like this when input is 3 (3x3) board for a Tic Tac Toe game:\n",
    "Input:\t\n",
    "How many lines? 3\n",
    "Output: \n",
    "   ----- \t   ----- \t   ----- \n",
    "|   \t|   \t|   \t| \n",
    "   ----- \t   ----- \t   ----- \n",
    "|   \t|   \t|   \t| \n",
    "   ----- \t   ----- \t   ----- \n",
    "|   \t|   \t|   \t| \n",
    "   -----      -----      -----\n"
   ]
  },
  {
   "cell_type": "code",
   "execution_count": null,
   "id": "2aab57d3",
   "metadata": {},
   "outputs": [],
   "source": []
  },
  {
   "cell_type": "markdown",
   "id": "b3685af4",
   "metadata": {},
   "source": [
    "If a game of Tic Tac Toe is represented as a list of lists(2-D list), like so:\n",
    "game = \n",
    "[[1, 2, 0],\n",
    " [2, 1, 0],\n",
    " [2, 1, 1]]\n",
    "where a 0 means an empty square, a 1 means that player 1 put their token in that space, and a 2 means that player 2 put their token in that space.\n",
    "The goal is to output whether anyone has won, and which player won, if any. A Tic Tac Toe win is 3 in a row - either in a row, a column, or a diagonal. Don’t worry about the case where TWO people have won - assume that in every board there will only be one winner, and print a draw if there is no winner. \n",
    "\n",
    "Hint: Let’s make use of double indexing (ex: lis[0][1]) and negative indexing of a matrix (ex: lis[1][-1])\n"
   ]
  },
  {
   "cell_type": "code",
   "execution_count": 2,
   "id": "af616390",
   "metadata": {},
   "outputs": [
    {
     "name": "stdout",
     "output_type": "stream",
     "text": [
      "You win\n"
     ]
    }
   ],
   "source": [
    "lis=[\n",
    "    [1, 2, 0],\n",
    "    [2, 1, 0],\n",
    "    [2, 1, 1]]\n",
    "if lis[0][0] == lis[0][1] == lis[0][2]:\n",
    "    print(f'player{lis[0][0]} win')\n",
    "elif lis[1][0] == lis[1][1] == lis[1][2]:\n",
    "    print(f'player{lis[1][0]} win')\n",
    "elif lis[2][0] == lis[2][1] == lis[2][2]:\n",
    "    print(f'player{lis[2][0]} win')\n",
    "\n",
    "elif lis[0][0] == lis[1][0] == lis[2][0]:\n",
    "    print(f'player{lis[0][0]} win')\n",
    "elif lis[0][1] == lis[1][1] == lis[2][1]:\n",
    "    print(f'player{lis[0][1]} win')\n",
    "elif lis[0][2] == lis[1][2] == lis[2][2]:\n",
    "    print(f'player{lis[0][1]} win')  \n",
    "\n",
    "\n",
    "    \n",
    "elif lis[0][0] == lis[1][1] == lis[2][2]:\n",
    "    print(f'player{lis[0][0]} win')\n",
    "elif lis[0][2] == lis[1][1] == lis[2][0]:\n",
    "    print(f'player{lis[0][2]} win')\n",
    "    "
   ]
  },
  {
   "cell_type": "markdown",
   "id": "c93db0d2",
   "metadata": {},
   "source": [
    "\n",
    "Dictionary:\n",
    "Write a Python script to concatenate the following dictionaries to create a new one. \n",
    "Sample Dictionary :\n",
    "dic1={1:10, 2:20}\n",
    "dic2={3:30, 4:40}\n",
    "dic3={5:50, 6:60}\n",
    "Expected Result : {1: 10, 2: 20, 3: 30, 4: 40, 5: 50, 6: 60}\n"
   ]
  },
  {
   "cell_type": "code",
   "execution_count": 72,
   "id": "93903eeb",
   "metadata": {},
   "outputs": [
    {
     "name": "stdout",
     "output_type": "stream",
     "text": [
      "{1: 10, 2: 20, 3: 30, 4: 40, 5: 50, 6: 60}\n"
     ]
    }
   ],
   "source": [
    "dic1={1:10, 2:20}\n",
    "dic2={3:30, 4:40}\n",
    "dic3={5:50, 6:60}\n",
    "dic1.update(dic2)\n",
    "dic1.update(dic3)\n",
    "print(dic1)"
   ]
  },
  {
   "cell_type": "markdown",
   "id": "3a09013e",
   "metadata": {},
   "source": [
    "Write a Python script to generate and print a dictionary that contains a number (between 1 and n) in the form (x, x*x).\n",
    "Sample Dictionary ( n = 5) :\n",
    "Expected Output : {1: 1, 2: 4, 3: 9, 4: 16, 5: 25}\n"
   ]
  },
  {
   "cell_type": "code",
   "execution_count": 7,
   "id": "fd795708",
   "metadata": {},
   "outputs": [
    {
     "name": "stdout",
     "output_type": "stream",
     "text": [
      "5\n",
      "{1: 1, 2: 4, 3: 9, 4: 16, 5: 25}\n"
     ]
    }
   ],
   "source": [
    "n = int(input())\n",
    "value={}\n",
    "for i in range(1,n+1):\n",
    "    value[i]=i**2\n",
    "print(value)"
   ]
  },
  {
   "cell_type": "markdown",
   "id": "b114b2fb",
   "metadata": {},
   "source": [
    "#List:\n"
   ]
  },
  {
   "cell_type": "markdown",
   "id": "0a4a61b4",
   "metadata": {},
   "source": [
    "1/ Write a Python program to count the number of strings from a given list of strings. Count only the strings that have a length of 2 or more and in which  the first and last characters are the same.\n",
    "Sample List : ['abc', 'xyz', 'aba', '1221']\n",
    "Expected Result : 2"
   ]
  },
  {
   "cell_type": "code",
   "execution_count": null,
   "id": "5d171677",
   "metadata": {},
   "outputs": [],
   "source": [
    "lis = ['abc', 'xyz', 'aba', '1221','tbt','rbr'] \n",
    "cnt = 0\n",
    "for i in lis:\n",
    "    for j in range(len(i)):\n",
    "        if i[0] == i[j-(j+1)]:\n",
    "            cnt +=1\n",
    "            break\n",
    "print(cnt)"
   ]
  },
  {
   "cell_type": "markdown",
   "id": "c6a56417",
   "metadata": {},
   "source": [
    "2/ Write a Python program to get a list, sorted in increasing(ascending) order by the last element in each tuple from a given list of non-empty tuples. Sample List : [(2, 5), (1, 2), (4, 4), (2, 3), (2, 1)] Expected Result : [(2, 1), (1, 2), (2, 3), (4, 4), (2, 5)]"
   ]
  },
  {
   "cell_type": "code",
   "execution_count": null,
   "id": "0d37babb",
   "metadata": {},
   "outputs": [],
   "source": [
    "lis = [(2, 5), (1, 2), (4, 4), (3, 3), (5, 1)]\n",
    "l = []\n",
    "for i in lis:\n",
    "    i = list(i)\n",
    "    l.append(i) "
   ]
  },
  {
   "cell_type": "markdown",
   "id": "8ef54064",
   "metadata": {},
   "source": [
    "3/ Write a Python program to remove duplicates from a list and display in a descending order. Sample List: [1, 2, 4 , 3, 3, 4, 8, 7, 10, 1] Expected Result: [10, 8, 7, 4, 3, 2, 1]"
   ]
  },
  {
   "cell_type": "code",
   "execution_count": 1,
   "id": "11cfb087",
   "metadata": {},
   "outputs": [
    {
     "name": "stdout",
     "output_type": "stream",
     "text": [
      "[10, 8, 7, 4, 3, 2, 1]\n"
     ]
    }
   ],
   "source": [
    "lis = [1, 2, 4 , 3, 3, 4, 8, 7, 10, 1]\n",
    "l = []\n",
    "for i in lis:\n",
    "    if i not in l:\n",
    "        l.append(i)\n",
    "l.sort(reverse=True)\n",
    "print(l)"
   ]
  },
  {
   "cell_type": "markdown",
   "id": "61253ea6",
   "metadata": {},
   "source": [
    "# 2-D List"
   ]
  },
  {
   "cell_type": "markdown",
   "id": "684749ef",
   "metadata": {},
   "source": [
    "1/ Write a Python program to generate a 35 2-D array/list whose each element is the string ‘’ . Expected Result:"
   ]
  },
  {
   "cell_type": "code",
   "execution_count": null,
   "id": "8617498c",
   "metadata": {},
   "outputs": [],
   "source": [
    "s = []\n",
    "for i in range(3):\n",
    "    line = []\n",
    "    for j in range(5):\n",
    "        line.append('*')\n",
    "    s.append(line)\n",
    "for i in s:\n",
    "    for j in i:\n",
    "        print(j,end=' ')\n",
    "    print()"
   ]
  },
  {
   "cell_type": "markdown",
   "id": "ce858d55",
   "metadata": {},
   "source": [
    "2/ Write a Python program to find the list in a list of lists whose sum of elements is the highest. Sample List: [[1, 2, 3] , [4, 5, 6], [10, 8, 7] , [8, 7, 9]] Expected Output: [10, 8, 7]"
   ]
  },
  {
   "cell_type": "code",
   "execution_count": null,
   "id": "ef49c66b",
   "metadata": {},
   "outputs": [],
   "source": [
    "lis = [[1, 2, 3] , [4, 5, 100], [10, 8, 7] , [45, 7, 9]]\n",
    "ma = lis[0]\n",
    "for i in range(len(lis)):\n",
    "    if sum(lis[i]) > sum(ma):\n",
    "        ma = lis[i]\n",
    "print(ma)"
   ]
  },
  {
   "cell_type": "markdown",
   "id": "9d3efd38",
   "metadata": {},
   "source": [
    "3/ Write a Python program to remove duplicates from a list of lists. Sample list : [[10, 20], [40], [30, 56, 25], [10, 20], [33], [40]] New List : [[10, 20], [30, 56, 25], [33], [40]]"
   ]
  },
  {
   "cell_type": "code",
   "execution_count": 2,
   "id": "cd163088",
   "metadata": {},
   "outputs": [
    {
     "name": "stdout",
     "output_type": "stream",
     "text": [
      "[[10, 20], [40], [30, 56, 25], [10, 20, 10], [33]]\n"
     ]
    }
   ],
   "source": [
    "lis = [[10, 20], [40], [30, 56, 25], [10, 20,10], [33], [40]]\n",
    "l = []\n",
    "for i in lis:\n",
    "    if i not in l:\n",
    "        l.append(i)\n",
    "print(l)"
   ]
  },
  {
   "cell_type": "markdown",
   "id": "550b0842",
   "metadata": {},
   "source": [
    "# Dictionary:"
   ]
  },
  {
   "cell_type": "markdown",
   "id": "09f9943a",
   "metadata": {},
   "source": [
    "1/ Write a Python script to sort (ascending and descending) a dictionary by value.\n",
    "Sample dic: {1: 5, 3: 1, 4: 2, 2: 3, 0: 4}\n",
    "Expected Result: descending= {1: 5, 0: 4, 2: 3, 4: 2, 3: 1}\n",
    "                 ascending= {3: 1, 4: 2, 2: 3, 0: 4, 1: 5}"
   ]
  },
  {
   "cell_type": "markdown",
   "id": "b0e74b41",
   "metadata": {},
   "source": [
    "2/ Write a Python script to check whether the values 30 and 35 exist in the dictionary. Sample dic: d = {1: 10, 2: 20, 3: 30, 4: 40, 5: 50, 6: 60} Expected Result: 30 exists in the dictionary with the key= 3. 35 doesn’t exist in the dictionary."
   ]
  },
  {
   "cell_type": "code",
   "execution_count": 3,
   "id": "0e27a55e",
   "metadata": {},
   "outputs": [
    {
     "name": "stdout",
     "output_type": "stream",
     "text": [
      "30\n",
      "30 exists in the dictionary\n"
     ]
    }
   ],
   "source": [
    "d ={1:10, 2: 20, 3: 30, 4: 40, 5: 50, 6: 60}\n",
    "n = int(input())\n",
    "if n in d.values():\n",
    "    print(n,'exists in the dictionary')\n",
    "else:\n",
    "    print(n,'doesn’t exist in the dictionary')\n"
   ]
  },
  {
   "cell_type": "markdown",
   "id": "9da96e9c",
   "metadata": {},
   "source": [
    "3/ Write a Python program to remove the keys ‘middlename’, ‘idealType’ from the given dictionary. Sample dic: dic = { ‘firstname’: ‘K-boy’ , ‘middlename’ : ‘Cambo’, ‘lastname’: ‘Ti’, ‘job’: ‘reporter’, age: 25, ‘idealType’: ‘Tiktoker’ } Expected Result: dic = { ‘firstname’: ‘K-boy’ , ‘lastname’: ‘Ti’, ‘job’: ‘reporter’, age: 25}"
   ]
  },
  {
   "cell_type": "code",
   "execution_count": 4,
   "id": "f18d9f4a",
   "metadata": {},
   "outputs": [
    {
     "name": "stdout",
     "output_type": "stream",
     "text": [
      "{'firstname': 'K-boy', 'lastname': 'Ti', 'job': 'reporter', 'age': 25}\n"
     ]
    }
   ],
   "source": [
    "dic = { 'firstname': 'K-boy' , 'middlename': 'Cambo','lastname': 'Ti','job':'reporter','age':25,'idealType':'Tiktoker'}\n",
    "del dic['middlename']\n",
    "del dic['idealType']\n",
    "print(dic)"
   ]
  },
  {
   "cell_type": "code",
   "execution_count": null,
   "id": "18cd2232",
   "metadata": {},
   "outputs": [],
   "source": []
  }
 ],
 "metadata": {
  "kernelspec": {
   "display_name": "Python 3 (ipykernel)",
   "language": "python",
   "name": "python3"
  },
  "language_info": {
   "codemirror_mode": {
    "name": "ipython",
    "version": 3
   },
   "file_extension": ".py",
   "mimetype": "text/x-python",
   "name": "python",
   "nbconvert_exporter": "python",
   "pygments_lexer": "ipython3",
   "version": "3.10.9"
  }
 },
 "nbformat": 4,
 "nbformat_minor": 5
}
