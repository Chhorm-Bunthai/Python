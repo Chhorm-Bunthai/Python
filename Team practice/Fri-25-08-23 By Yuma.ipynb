{
 "cells": [
  {
   "cell_type": "markdown",
   "id": "fd532ba5",
   "metadata": {},
   "source": [
    "# Evaluation Exercises\n"
   ]
  },
  {
   "cell_type": "markdown",
   "id": "a1fa75c2",
   "metadata": {},
   "source": [
    " Given two matrix of 3 x 3:\n",
    "matrix1 = [ [1, 2, 3], \n",
    "            [4, 5, 6],\n",
    "            [7, 8, 9]]\n",
    "\n",
    "matrix2 = [[9, 8, 7], \n",
    "           [6, 5, 4], \n",
    "           [3, 2, 1]]\n",
    "Please ask the user to input the choice from 1 to 3. 1 for matrix summation, 2 for matrix subtraction, 3 for matrix multiplication. After printing the result, the program must ask the user to input their choice again. In case the user chooses or presses other keys than (1 - 3) print the message “Hello kon papa” and exit the program. NOTE: \n",
    "Each operation must include the try and expect operation to avoid any error during operation.\n"
   ]
  },
  {
   "cell_type": "markdown",
   "id": "d9fa4c37",
   "metadata": {},
   "source": [
    "Expected output: \n",
    "#print the two matrix \n",
    "You have: matrix1=    [1 2 3]\n",
    "                      [4 5 6]\n",
    "                      [7 8 9]\n",
    "\n",
    "\t\t Matrix2 =    [9 8 7]\n",
    "\t\t\t\t      [6 5 4]\n",
    "\t\t\t\t      [3 2 1]\n",
    "1/Matrix1 + Matrix2\n",
    "2/Matrix1 - Matrix2\n",
    "3/Matrix1 * Matrix2\n",
    "Press other keys to exit.\n",
    "\n",
    "\n",
    "\n",
    "Enter your choice 1-4: 1\n",
    "Result = [10 10 10]\n",
    "         [10 10 10]\n",
    "         [10 10 10]\n",
    "Matrix1 + Matrix2\n",
    "Matrix1 - Matrix2\n",
    "Matrix1 * Matrix2\n",
    "Press other keys to exit.\n",
    "Enter you choice 1-5: o\n",
    "Hello kon papa!\n",
    "\n"
   ]
  },
  {
   "cell_type": "code",
   "execution_count": 3,
   "id": "19a29e31",
   "metadata": {},
   "outputs": [
    {
     "name": "stdout",
     "output_type": "stream",
     "text": [
      "1) Matrix1 + Matrix2\n",
      "2) Matrix1 - Matrix2\n",
      "3) Matrix1 * Matrix2\n",
      "4)Press other keys to exit.\n",
      "Enter your choice 1-4:3\n",
      "[9, 24, 21]\n",
      "[16, 25, 16]\n",
      "[21, 24, 9]\n"
     ]
    }
   ],
   "source": [
    "m1 = [ [1, 2, 3], \n",
    "       [4, 5, 6],\n",
    "       [7, 8, 9]]\n",
    "\n",
    "m2 = [[9, 8, 7], \n",
    "      [6, 5, 4], \n",
    "      [3, 2, 1]]\n",
    "print('1) Matrix1 + Matrix2')\n",
    "print('2) Matrix1 - Matrix2')\n",
    "print('3) Matrix1 * Matrix2')\n",
    "print('4)Press other keys to exit.')\n",
    "user = int(input('Enter your choice 1-4:'))\n",
    "if user == 1:\n",
    "    for i in range(len(m1)):\n",
    "        li = []\n",
    "        for j in range(len(m1[i])):\n",
    "            li.append(m1[i][j] + m2[i][j])\n",
    "        print(li)\n",
    "\n",
    "elif user == 2:\n",
    "    for i in range(len(m1)):\n",
    "        li = []\n",
    "        for j in range(len(m1[i])):\n",
    "            li.append(m1[i][j] - m2[i][j])\n",
    "        print(li)\n",
    "    \n",
    "elif user == 3:\n",
    "    for i in range(len(m1)):\n",
    "        s=[]\n",
    "        for j in range(len(m1[i])):    \n",
    "            a=0\n",
    "            for k in range(len(m1[i])):\n",
    "                b= m1[i][k] * m2[k][j]\n",
    "                a +=b\n",
    "            s.append(a)\n",
    "        print(s)\n",
    "else:\n",
    "    print('exit')\n",
    "        \n",
    "\n"
   ]
  },
  {
   "cell_type": "code",
   "execution_count": 51,
   "id": "a3ecfccf",
   "metadata": {},
   "outputs": [
    {
     "name": "stdout",
     "output_type": "stream",
     "text": [
      "Hello I am superThai\n"
     ]
    }
   ],
   "source": [
    "with open('source.txt','w') as f:\n",
    "    f.write('Hello I am superThai')\n",
    "with open('source.txt','r') as f :\n",
    "    data=f.read()\n",
    "\n",
    "with open('copied.txt','w') as c:\n",
    "    c.write(data)\n",
    "with open('copied.txt','r') as c:\n",
    "    print(c.read())"
   ]
  },
  {
   "cell_type": "code",
   "execution_count": null,
   "id": "2553f466",
   "metadata": {},
   "outputs": [],
   "source": []
  }
 ],
 "metadata": {
  "kernelspec": {
   "display_name": "Python 3 (ipykernel)",
   "language": "python",
   "name": "python3"
  },
  "language_info": {
   "codemirror_mode": {
    "name": "ipython",
    "version": 3
   },
   "file_extension": ".py",
   "mimetype": "text/x-python",
   "name": "python",
   "nbconvert_exporter": "python",
   "pygments_lexer": "ipython3",
   "version": "3.10.9"
  }
 },
 "nbformat": 4,
 "nbformat_minor": 5
}
