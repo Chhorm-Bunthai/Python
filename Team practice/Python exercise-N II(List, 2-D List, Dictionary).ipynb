{
 "cells": [
  {
   "cell_type": "markdown",
   "id": "1ac14fef",
   "metadata": {},
   "source": [
    "# List: "
   ]
  },
  {
   "cell_type": "markdown",
   "id": "da0dc543",
   "metadata": {},
   "source": [
    "1/ Write a Python program to count the number of strings from a given list of strings. Count only the strings that have a length of 2 or more and in which  the first and last characters are the same.\n",
    "Sample List : ['abc', 'xyz', 'aba', '1221']\n",
    "Expected Result : 2\n"
   ]
  },
  {
   "cell_type": "code",
   "execution_count": 17,
   "id": "837f0dd6",
   "metadata": {},
   "outputs": [
    {
     "name": "stdout",
     "output_type": "stream",
     "text": [
      "4\n"
     ]
    }
   ],
   "source": [
    "lis = ['abc', 'xyz', 'aba', '1221','tbt','rbr'] \n",
    "cnt = 0\n",
    "for i in lis:\n",
    "    for j in range(len(i)):\n",
    "        if i[0] == i[j-(j+1)]:\n",
    "            cnt +=1\n",
    "            break\n",
    "print(cnt)"
   ]
  },
  {
   "cell_type": "markdown",
   "id": "52b82605",
   "metadata": {},
   "source": [
    "2/ Write a Python program to get a list, sorted in increasing(ascending) order by the last element in each tuple from a given list of non-empty tuples.\n",
    "Sample List : [(2, 5), (1, 2), (4, 4), (2, 3), (2, 1)]\n",
    "Expected Result : [(2, 1), (1, 2), (2, 3), (4, 4), (2, 5)]\n"
   ]
  },
  {
   "cell_type": "code",
   "execution_count": 57,
   "id": "5836bd60",
   "metadata": {},
   "outputs": [],
   "source": [
    "lis = [(2, 5), (1, 2), (4, 4), (3, 3), (5, 1)]\n",
    "l = []\n",
    "for i in lis:\n",
    "    i = list(i)\n",
    "    l.append(i)      "
   ]
  },
  {
   "cell_type": "markdown",
   "id": "34dac8f5",
   "metadata": {},
   "source": [
    "3/ Write a Python program to remove duplicates from a list and display in a descending order.\n",
    "\tSample List: [1, 2, 4 , 3, 3, 4, 8, 7, 10, 1]\n",
    "\tExpected Result: [10, 8, 7, 4, 3, 2, 1]\n"
   ]
  },
  {
   "cell_type": "code",
   "execution_count": 92,
   "id": "535ce0cd",
   "metadata": {},
   "outputs": [
    {
     "name": "stdout",
     "output_type": "stream",
     "text": [
      "[1, 2, 1, 4, 3, 4, 8, 7, 10]\n",
      "[10, 7, 4, 4, 3, 1]\n"
     ]
    }
   ],
   "source": [
    "# lis = [1, 2, 1, 4, 3, 4, 8, 7, 10, 1]\n",
    "# l = []\n",
    "# for i in range(len(lis)-1):\n",
    "#     if lis[i] != lis[i+1]:\n",
    "#         l.append(lis[i])\n",
    "#     else:\n",
    "#         continue\n",
    "# print(l)\n",
    "# for j in l:\n",
    "#     if l.count(j) > 1:\n",
    "#         l.pop(j)\n",
    "# l.sort(reverse=True)\n",
    "# print(l)        "
   ]
  },
  {
   "cell_type": "code",
   "execution_count": 89,
   "id": "58e85944",
   "metadata": {},
   "outputs": [
    {
     "name": "stdout",
     "output_type": "stream",
     "text": [
      "[10, 8, 7, 4, 3, 2, 1]\n"
     ]
    }
   ],
   "source": [
    "lis = [1, 2, 4 , 3, 3, 4, 8, 7, 10, 1]\n",
    "l = []\n",
    "for i in lis:\n",
    "    if i not in l:\n",
    "        l.append(i)\n",
    "l.sort(reverse=True)\n",
    "print(l)"
   ]
  },
  {
   "cell_type": "markdown",
   "id": "aa255736",
   "metadata": {},
   "source": [
    "# 2-D List"
   ]
  },
  {
   "cell_type": "markdown",
   "id": "4cc4d5ea",
   "metadata": {},
   "source": [
    "1/ Write a Python program to generate a 3*5 2-D array/list whose each element is the string ‘*’ . \n",
    "Expected Result: \n",
    "\n"
   ]
  },
  {
   "cell_type": "markdown",
   "id": "3452e4bb",
   "metadata": {},
   "source": [
    "*  *  *  *  *\n",
    "*  *  *  *  *\n",
    "*  *  *  *  *"
   ]
  },
  {
   "cell_type": "code",
   "execution_count": 117,
   "id": "c0cd7407",
   "metadata": {},
   "outputs": [
    {
     "name": "stdout",
     "output_type": "stream",
     "text": [
      "* * * * * \n",
      "* * * * * \n",
      "* * * * * \n"
     ]
    }
   ],
   "source": [
    "s = []\n",
    "for i in range(3):\n",
    "    line = []\n",
    "    for j in range(5):\n",
    "        line.append('*')\n",
    "    s.append(line)\n",
    "for i in s:\n",
    "    for j in i:\n",
    "        print(j,end=' ')\n",
    "    print()"
   ]
  },
  {
   "cell_type": "markdown",
   "id": "cbb187e1",
   "metadata": {},
   "source": [
    "2/ Write a Python program to find the list in a list of lists whose sum of elements is the highest. \n",
    "Sample List:  [[1, 2, 3] , [4, 5, 6], [10, 8, 7] , [8, 7, 9]] \n",
    "Expected Output: [10, 8, 7] \n"
   ]
  },
  {
   "cell_type": "code",
   "execution_count": 120,
   "id": "11c71f0f",
   "metadata": {},
   "outputs": [
    {
     "name": "stdout",
     "output_type": "stream",
     "text": [
      "[4, 5, 100]\n"
     ]
    }
   ],
   "source": [
    "lis = [[1, 2, 3] , [4, 5, 100], [10, 8, 7] , [45, 7, 9]]\n",
    "ma = lis[0]\n",
    "for i in range(len(lis)):\n",
    "    if sum(lis[i]) > sum(ma):\n",
    "        ma = lis[i]\n",
    "print(ma)"
   ]
  },
  {
   "cell_type": "markdown",
   "id": "34b91b6e",
   "metadata": {},
   "source": [
    "3/ Write a Python program to remove duplicates from a list of lists.\n",
    "Sample list : [[10, 20], [40], [30, 56, 25], [10, 20], [33], [40]]\n",
    "New List : [[10, 20], [30, 56, 25], [33], [40]]\n"
   ]
  },
  {
   "cell_type": "code",
   "execution_count": 123,
   "id": "420058ed",
   "metadata": {},
   "outputs": [
    {
     "name": "stdout",
     "output_type": "stream",
     "text": [
      "[[10, 20], [40], [30, 56, 25], [10, 20, 10], [33]]\n"
     ]
    }
   ],
   "source": [
    "lis = [[10, 20], [40], [30, 56, 25], [10, 20,10], [33], [40]]\n",
    "l = []\n",
    "for i in lis:\n",
    "    if i not in l:\n",
    "        l.append(i)\n",
    "print(l)"
   ]
  },
  {
   "cell_type": "markdown",
   "id": "67b63bc2",
   "metadata": {},
   "source": [
    "# Dictionary:"
   ]
  },
  {
   "cell_type": "markdown",
   "id": "6ada7ab4",
   "metadata": {},
   "source": [
    "1/ Write a Python script to sort (ascending and descending) a dictionary by value.\n",
    "Sample dic: {1: 5, 3: 1, 4: 2, 2: 3, 0: 4}\n",
    "Expected Result: descending= {1: 5, 0: 4, 2: 3, 4: 2, 3: 1}\n",
    "                 ascending= {3: 1, 4: 2, 2: 3, 0: 4, 1: 5}"
   ]
  },
  {
   "cell_type": "code",
   "execution_count": 59,
   "id": "0e7ca235",
   "metadata": {},
   "outputs": [],
   "source": [
    "dic = {1: 5, 3: 1, 4: 2, 2: 3, 0: 4}\n",
    "\n"
   ]
  },
  {
   "cell_type": "markdown",
   "id": "fe7c784e",
   "metadata": {},
   "source": [
    "2/ Write a Python script to check whether the values 30 and 35 exist in  the dictionary.\n",
    "Sample dic: d = {1: 10, 2: 20, 3: 30, 4: 40, 5: 50, 6: 60}\n",
    "Expected Result: 30 exists in the dictionary with the key= 3.\n",
    "\t\t\t35 doesn’t exist in the dictionary."
   ]
  },
  {
   "cell_type": "code",
   "execution_count": 24,
   "id": "9c143f77",
   "metadata": {},
   "outputs": [
    {
     "name": "stdout",
     "output_type": "stream",
     "text": [
      "40\n",
      "40 exists in the dictionary\n"
     ]
    }
   ],
   "source": [
    "d ={1:10, 2: 20, 3: 30, 4: 40, 5: 50, 6: 60}\n",
    "n = int(input())\n",
    "if n in d.values():\n",
    "    print(n,'exists in the dictionary')\n",
    "else:\n",
    "    print(n,'doesn’t exist in the dictionary')\n"
   ]
  },
  {
   "cell_type": "markdown",
   "id": "ecafaece",
   "metadata": {},
   "source": [
    "3/ Write a Python program to remove the keys ‘middlename’, ‘idealType’ from the given dictionary.\n",
    "Sample dic: dic = { ‘firstname’: ‘K-boy’ , ‘middlename’ : ‘Cambo’, ‘lastname’: ‘Ti’, ‘job’: ‘reporter’, age: 25, ‘idealType’: ‘Tiktoker’ }\n",
    "Expected Result: dic = { ‘firstname’: ‘K-boy’ , ‘lastname’: ‘Ti’, ‘job’: ‘reporter’, age: 25} \n"
   ]
  },
  {
   "cell_type": "code",
   "execution_count": 56,
   "id": "1a44162d",
   "metadata": {},
   "outputs": [
    {
     "name": "stdout",
     "output_type": "stream",
     "text": [
      "{'firstname': 'K-boy', 'lastname': 'Ti', 'job': 'reporter', 'age': 25}\n"
     ]
    }
   ],
   "source": [
    "dic = { 'firstname': 'K-boy' , 'middlename': 'Cambo','lastname': 'Ti','job':'reporter','age':25,'idealType':'Tiktoker'}\n",
    "del dic['middlename']\n",
    "del dic['idealType']\n",
    "print(dic)"
   ]
  },
  {
   "cell_type": "code",
   "execution_count": null,
   "id": "10610e57",
   "metadata": {},
   "outputs": [],
   "source": []
  },
  {
   "cell_type": "code",
   "execution_count": null,
   "id": "88c61ee5",
   "metadata": {},
   "outputs": [],
   "source": []
  }
 ],
 "metadata": {
  "kernelspec": {
   "display_name": "Python 3 (ipykernel)",
   "language": "python",
   "name": "python3"
  },
  "language_info": {
   "codemirror_mode": {
    "name": "ipython",
    "version": 3
   },
   "file_extension": ".py",
   "mimetype": "text/x-python",
   "name": "python",
   "nbconvert_exporter": "python",
   "pygments_lexer": "ipython3",
   "version": "3.10.9"
  }
 },
 "nbformat": 4,
 "nbformat_minor": 5
}
