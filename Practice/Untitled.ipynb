{
 "cells": [
  {
   "cell_type": "code",
   "execution_count": 5,
   "id": "7bcc5fd1",
   "metadata": {},
   "outputs": [
    {
     "name": "stdout",
     "output_type": "stream",
     "text": [
      "{'bunthai': '1234'}\n"
     ]
    }
   ],
   "source": [
    "phone_book['bunthai'] = '1234'\n",
    "print(phone_book)"
   ]
  },
  {
   "cell_type": "code",
   "execution_count": 3,
   "id": "3ec31a5b",
   "metadata": {},
   "outputs": [
    {
     "name": "stdout",
     "output_type": "stream",
     "text": [
      "[[10], [20, 20], [30, 30, 30], [40, 40, 40, 40], [50, 50, 50, 50, 50]]\n",
      "[[10, 44], [20, 20], [30, 30, 30], [40, 40, 40, 40], [50, 50, 50, 50, 50]]\n"
     ]
    }
   ],
   "source": [
    "lis = [[10 * i] * i for i in [1,2,3,4,5]]\n",
    "print(lis)\n",
    "lis[0].append(44)\n",
    "print(lis)"
   ]
  },
  {
   "cell_type": "code",
   "execution_count": 5,
   "id": "a9cf5a26",
   "metadata": {},
   "outputs": [
    {
     "name": "stdout",
     "output_type": "stream",
     "text": [
      "/Users/anbschool0003/Documents/Python Lesson/Python/Practice\n"
     ]
    }
   ],
   "source": [
    "import os\n",
    "cwd = os.getcwd()\n",
    "print(cwd)"
   ]
  },
  {
   "cell_type": "code",
   "execution_count": null,
   "id": "f992b750",
   "metadata": {},
   "outputs": [],
   "source": []
  }
 ],
 "metadata": {
  "kernelspec": {
   "display_name": "Python 3 (ipykernel)",
   "language": "python",
   "name": "python3"
  },
  "language_info": {
   "codemirror_mode": {
    "name": "ipython",
    "version": 3
   },
   "file_extension": ".py",
   "mimetype": "text/x-python",
   "name": "python",
   "nbconvert_exporter": "python",
   "pygments_lexer": "ipython3",
   "version": "3.10.9"
  }
 },
 "nbformat": 4,
 "nbformat_minor": 5
}
